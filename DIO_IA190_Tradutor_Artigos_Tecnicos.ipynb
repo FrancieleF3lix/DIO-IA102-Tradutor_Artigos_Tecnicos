{
  "nbformat": 4,
  "nbformat_minor": 0,
  "metadata": {
    "colab": {
      "provenance": []
    },
    "kernelspec": {
      "name": "python3",
      "display_name": "Python 3"
    },
    "language_info": {
      "name": "python"
    }
  },
  "cells": [
    {
      "cell_type": "markdown",
      "source": [
        "O código abaixo foi usado como exemplo de projeto no Bootcamp da DIO para cartificação AI-102. Faz-se necessário um endpoint e chave válidos para que o código funcione."
      ],
      "metadata": {
        "id": "EPZXPDTQTr2P"
      }
    },
    {
      "cell_type": "code",
      "execution_count": 2,
      "metadata": {
        "colab": {
          "base_uri": "https://localhost:8080/"
        },
        "collapsed": true,
        "id": "yd1pI1VFNvb6",
        "outputId": "d44fefc2-3fb1-4ad1-eeff-705c08ae226f"
      },
      "outputs": [
        {
          "output_type": "stream",
          "name": "stdout",
          "text": [
            "Requirement already satisfied: requests in /usr/local/lib/python3.12/dist-packages (2.32.4)\n",
            "Requirement already satisfied: beautifulsoup4 in /usr/local/lib/python3.12/dist-packages (4.13.5)\n",
            "Requirement already satisfied: openai in /usr/local/lib/python3.12/dist-packages (1.109.1)\n",
            "Requirement already satisfied: langchain-openai in /usr/local/lib/python3.12/dist-packages (1.0.0)\n",
            "Requirement already satisfied: charset_normalizer<4,>=2 in /usr/local/lib/python3.12/dist-packages (from requests) (3.4.4)\n",
            "Requirement already satisfied: idna<4,>=2.5 in /usr/local/lib/python3.12/dist-packages (from requests) (3.11)\n",
            "Requirement already satisfied: urllib3<3,>=1.21.1 in /usr/local/lib/python3.12/dist-packages (from requests) (2.5.0)\n",
            "Requirement already satisfied: certifi>=2017.4.17 in /usr/local/lib/python3.12/dist-packages (from requests) (2025.10.5)\n",
            "Requirement already satisfied: soupsieve>1.2 in /usr/local/lib/python3.12/dist-packages (from beautifulsoup4) (2.8)\n",
            "Requirement already satisfied: typing-extensions>=4.0.0 in /usr/local/lib/python3.12/dist-packages (from beautifulsoup4) (4.15.0)\n",
            "Requirement already satisfied: anyio<5,>=3.5.0 in /usr/local/lib/python3.12/dist-packages (from openai) (4.11.0)\n",
            "Requirement already satisfied: distro<2,>=1.7.0 in /usr/local/lib/python3.12/dist-packages (from openai) (1.9.0)\n",
            "Requirement already satisfied: httpx<1,>=0.23.0 in /usr/local/lib/python3.12/dist-packages (from openai) (0.28.1)\n",
            "Requirement already satisfied: jiter<1,>=0.4.0 in /usr/local/lib/python3.12/dist-packages (from openai) (0.11.0)\n",
            "Requirement already satisfied: pydantic<3,>=1.9.0 in /usr/local/lib/python3.12/dist-packages (from openai) (2.11.10)\n",
            "Requirement already satisfied: sniffio in /usr/local/lib/python3.12/dist-packages (from openai) (1.3.1)\n",
            "Requirement already satisfied: tqdm>4 in /usr/local/lib/python3.12/dist-packages (from openai) (4.67.1)\n",
            "Requirement already satisfied: langchain-core<2.0.0,>=1.0.0 in /usr/local/lib/python3.12/dist-packages (from langchain-openai) (1.0.0)\n",
            "Requirement already satisfied: tiktoken<1.0.0,>=0.7.0 in /usr/local/lib/python3.12/dist-packages (from langchain-openai) (0.12.0)\n",
            "Requirement already satisfied: httpcore==1.* in /usr/local/lib/python3.12/dist-packages (from httpx<1,>=0.23.0->openai) (1.0.9)\n",
            "Requirement already satisfied: h11>=0.16 in /usr/local/lib/python3.12/dist-packages (from httpcore==1.*->httpx<1,>=0.23.0->openai) (0.16.0)\n",
            "Requirement already satisfied: jsonpatch<2.0.0,>=1.33.0 in /usr/local/lib/python3.12/dist-packages (from langchain-core<2.0.0,>=1.0.0->langchain-openai) (1.33)\n",
            "Requirement already satisfied: langsmith<1.0.0,>=0.3.45 in /usr/local/lib/python3.12/dist-packages (from langchain-core<2.0.0,>=1.0.0->langchain-openai) (0.4.35)\n",
            "Requirement already satisfied: packaging<26.0.0,>=23.2.0 in /usr/local/lib/python3.12/dist-packages (from langchain-core<2.0.0,>=1.0.0->langchain-openai) (25.0)\n",
            "Requirement already satisfied: pyyaml<7.0.0,>=5.3.0 in /usr/local/lib/python3.12/dist-packages (from langchain-core<2.0.0,>=1.0.0->langchain-openai) (6.0.3)\n",
            "Requirement already satisfied: tenacity!=8.4.0,<10.0.0,>=8.1.0 in /usr/local/lib/python3.12/dist-packages (from langchain-core<2.0.0,>=1.0.0->langchain-openai) (8.5.0)\n",
            "Requirement already satisfied: annotated-types>=0.6.0 in /usr/local/lib/python3.12/dist-packages (from pydantic<3,>=1.9.0->openai) (0.7.0)\n",
            "Requirement already satisfied: pydantic-core==2.33.2 in /usr/local/lib/python3.12/dist-packages (from pydantic<3,>=1.9.0->openai) (2.33.2)\n",
            "Requirement already satisfied: typing-inspection>=0.4.0 in /usr/local/lib/python3.12/dist-packages (from pydantic<3,>=1.9.0->openai) (0.4.2)\n",
            "Requirement already satisfied: regex>=2022.1.18 in /usr/local/lib/python3.12/dist-packages (from tiktoken<1.0.0,>=0.7.0->langchain-openai) (2024.11.6)\n",
            "Requirement already satisfied: jsonpointer>=1.9 in /usr/local/lib/python3.12/dist-packages (from jsonpatch<2.0.0,>=1.33.0->langchain-core<2.0.0,>=1.0.0->langchain-openai) (3.0.0)\n",
            "Requirement already satisfied: orjson>=3.9.14 in /usr/local/lib/python3.12/dist-packages (from langsmith<1.0.0,>=0.3.45->langchain-core<2.0.0,>=1.0.0->langchain-openai) (3.11.3)\n",
            "Requirement already satisfied: requests-toolbelt>=1.0.0 in /usr/local/lib/python3.12/dist-packages (from langsmith<1.0.0,>=0.3.45->langchain-core<2.0.0,>=1.0.0->langchain-openai) (1.0.0)\n",
            "Requirement already satisfied: zstandard>=0.23.0 in /usr/local/lib/python3.12/dist-packages (from langsmith<1.0.0,>=0.3.45->langchain-core<2.0.0,>=1.0.0->langchain-openai) (0.25.0)\n"
          ]
        }
      ],
      "source": [
        "!pip install requests beautifulsoup4 openai langchain-openai"
      ]
    },
    {
      "cell_type": "code",
      "source": [
        "import requests\n",
        "from bs4 import BeautifulSoup"
      ],
      "metadata": {
        "id": "VpjUWa4vN-17"
      },
      "execution_count": 4,
      "outputs": []
    },
    {
      "cell_type": "code",
      "source": [
        "def extract_text_from_url(url):\n",
        "  response = requests.get(url)\n",
        "\n",
        "#Adicionar uma validação caso o retorno seja código 200\n",
        "  if response.status_code == 200:\n",
        "    soup = BeautifulSoup(response.text, 'html.parser')\n",
        "    #Limpar o texto\n",
        "    for script_or_style in soup(['script','style']):\n",
        "      script_or_style.decompose()\n",
        "    texto = soup.get_text(separator = ' ')\n",
        "    linhas = (line.strip() for line in texto.splitlines())\n",
        "    parts = (phrase.strip() for line in linhas for phrase in line.split(' '))\n",
        "    texto_limpo = '/n'.join(part for part in parts if part)\n",
        "    return texto_limpo\n",
        "  else:\n",
        "    print(f'Failed to fetch the URL. Status code: {response.status_code}')\n",
        "    return None\n",
        "\n",
        "  soup = BeautifulSoup(response.text, 'html.parser')\n",
        "  text = soup.get_text()\n",
        "  return text\n",
        "\n",
        "extract_text_from_url('https://dev.to/kenakamu/azure-open-ai-in-vnet-3alo')"
      ],
      "metadata": {
        "colab": {
          "base_uri": "https://localhost:8080/",
          "height": 244
        },
        "collapsed": true,
        "id": "Jzc0RpD3OzqD",
        "outputId": "e97abef2-dc8a-4c7e-bd1b-0b7aa287540e"
      },
      "execution_count": 6,
      "outputs": [
        {
          "output_type": "execute_result",
          "data": {
            "text/plain": [
              "\"Azure/nOpen/nAI/nin/nVNet/n-/nDEV/nCommunity/nForem/nFeed/nFollow/nnew/nSubforems/nto/nimprove/nyour/nfeed/nDEV/nCommunity/nFollow/nA/nspace/nto/ndiscuss/nand/nkeep/nup/nsoftware/ndevelopment/nand/nmanage/nyour/nsoftware/ncareer/nGamers/nForem/nFollow/nAn/ninclusive/ncommunity/nfor/ngaming/nenthusiasts/nFuture/nFollow/nNews/nand/ndiscussion/nof/nscience/nand/ntechnology/nsuch/nas/nAI,/nVR,/ncryptocurrency,/nquantum/ncomputing,/nand/nmore./nMusic/nForem/nFollow/nFrom/ncomposing/nand/ngigging/nto/ngear,/nhot/nmusic/ntakes,/nand/neverything/nin/nbetween./nVibe/nCoding/nForem/nFollow/nDiscussing/nAI/nsoftware/ndevelopment,/nand/nshowing/noff/nwhat/nwe're/nbuilding./nOpen/nForem/nFollow/nA/ngeneral/ndiscussion/nspace/nfor/nthe/nForem/ncommunity./nIf/nit/ndoesn't/nhave/na/nhome/nelsewhere,/nit/nbelongs/nhere/nPopcorn/nMovies/nand/nTV/nFollow/nMovie/nand/nTV/nenthusiasm,/ncriticism/nand/neverything/nin-between./nDUMB/nDEV/nCommunity/nFollow/nMemes/nand/nsoftware/ndevelopment/nshitposting/nDesign/nCommunity/nFollow/nWeb/ndesign,/ngraphic/ndesign/nand/neverything/nin-between/nGolf/nForem/nFollow/nA/ncommunity/nof/ngolfers/nand/ngolfing/nenthusiasts/nSecurity/nForem/nFollow/nYour/ncentral/nhub/nfor/nall/nthings/nsecurity./nFrom/nethical/nhacking/nand/nCTFs/nto/nGRC/nand/ncareer/ndevelopment,/nfor/nbeginners/nand/npros/nalike/nScale/nForem/nFollow/nFor/nengineers/nbuilding/nsoftware/nat/nscale./nWe/ndiscuss/narchitecture,/ncloud-native,/nand/nSRE—the/nhard-won/nlessons/nyou/ncan't/njust/nGoogle/nForem/nCore/nFollow/nDiscussing/nthe/ncore/nforem/nopen/nsource/nsoftware/nproject/n—/nfeatures,/nbugs,/nperformance,/nself-hosting./nCrypto/nForem/nFollow/nA/ncollaborative/ncommunity/nfor/nall/nthings/nCrypto—from/nBitcoin/nto/nprotocol/ndevelopment/nand/nDeFi/nto/nNFTs/nand/nmarket/nanalysis./nParenting/nFollow/nA/nplace/nfor/nparents/nto/nthe/nshare/nthe/njoys,/nchallenges,/nand/nwisdom/nthat/ncome/nfrom/nraising/nkids./nWe're/nhere/nfor/nthem/nand/nfor/neach/nother./nMaker/nForem/nFollow/nA/ncommunity/nfor/nmakers,/nhobbyists,/nand/nprofessionals/nto/ndiscuss/nArduino,/nRaspberry/nPi,/n3D/nprinting,/nand/nmuch/nmore./nDropdown/nmenu/nDropdown/nmenu/nSkip/nto/ncontent/nNavigation/nmenu/nSearch/nPowered/nby/nAlgolia/nSearch/nLog/nin/nCreate/naccount/nDEV/nCommunity/nClose/nAdd/nreaction/nLike/nUnicorn/nExploding/nHead/nRaised/nHands/nFire/nJump/nto/nComments/nSave/nBoost/nMore.../nModerate/nCopy/nlink/nCopy/nlink/nCopied/nto/nClipboard/nShare/nto/nX/nShare/nto/nLinkedIn/nShare/nto/nFacebook/nShare/nto/nMastodon/nReport/nAbuse/nKenichiro/nNakamura/nPosted/non/nOct/n12,/n2023/nAzure/nOpen/nAI/nin/nVNet/n#/nazure/n#/nopenai/n#/nsecurity/nGPT/nmodels/nare/nhosted/nin/nmultiple/nservice/nvendor/nat/nthe/nmoment,/nand/nMicrosoft/nAzure/nis/none/nof/nthem./nEven/nthough/nthe/nmodels/nthemselves/nare/nthe/nsame,/nthere/nare/nmany/ndifferences/nincluding:/ncost/nfunctionalities/ntype/nof/nmodels/nand/nversions/ngeo/nlocation/nsecurity/nsupport/netc./nOne/nof/nthe/nmost/nimportant/naspects/nwhen/nwe/nuse/nit/nin/nan/nEnterprise/nEnvironment/nis,/nof/ncourse,/nsecurity./nBy/nusing/nAzure/nnetwork/nsecurity/nfeatures/nwith/nAzure/nOpen/nAI,/ncustomers/ncan/nconsume/nthe/nOpen/nAI/nservice/nfrom/nand/nwithin/nthe/nVNet,/ntherefore/nno/ninformation/nis/nflowing/nin/npublic./nSample/nDeployment/nAzure/nSample/nrepo/nprovides/na/nsample/nbicep/nfiles/nto/ndeploy/nAzure/nOpen/nAI/ninto/nVNet/nenvironment./nGitHub:/nopenai-enterprise-iac/nThe/nkey/nfeatures/nthe/nbicep/nuses/nare:/nVNet/nVNet/nintegration/nfor/nWeb/nApp/nPrivate/nEndpoint/nfor/nAzure/nOpen/nAI/nPrivate/nEndpoint/nfor/nCognitive/nSearch/nPrivate/nDNS/nZone/nBy/nusing/nthese/nfeatures,/nall/nthe/noutbound/ntraffic/nfrom/nthe/nWeb/nApp/nonly/nrouted/ninside/nthe/nVNet/nand/nall/nthe/nnames/nare/nresolved/ninto/nprivate/nIP/naddresses./nOpen/nAI/nand/nCognitive/nSearch/nshut/ndown/nthe/npublic/nIP/naddress,/nthus/nthere/nis/nnot/npublic/ninterface/nendpoint/navailable/nanymore./nDeploy/nThe/nbicep/nfile/nwill/ndeploy/nfollowing/nAzure/nResources./nLet's/ndeploy/nand/nconfirm/nhow/nit/nworks./nI/ncreate/na/nresource/ngroup/nin/nEast/nUS/nregion/nfor/nmy/nown/ntest./ngit/nclone/nhttps://github.com/Azure-Samples/openai-enterprise-iac/ncd/nopenai-enterprise-iac/naz/ngroup/ncreate/n-n/nopenaitest/n-l/neastus/naz/ndeployment/ngroup/ncreate/n-g/nopenaitest/n-f/n./n\\\\i/nnfra/n\\\\m/nain.bicep/nEnter/nfullscreen/nmode/nExit/nfullscreen/nmode/nOnce/nI/nrun/nthe/ncommend/nabove,/nI/nsee/nthe/ndeployment/nstarted./nWait/nuntil/nthe/ndeployment/ncompletes./nTest/nLet's/nsee/nif/nthe/ndeployment/nwas/nsucceeded./nAzure/nOpen/nAI/nLet's/ntry/npublic/naccess/nfirst./nI/ncould/ncreate/na/ndeployment/nwithout/nany/nissue./nBut/nwhen/nI/ntry/nfrom/nthe/nChat/nplayground/nin/nmy/nAzure/nPortal,/nI/nsee/nthe/nfollowing/nerror./nHow/nabout/naccess/nvia/nthe/nWeb/nAPI?/nFrom/nan/nadvanced/ntool/nof/nthe/nApp/nService,/nI/nlogin/nto/nBash/nsession,/nand/nfirst/nI/nping/nthe/nservice/nURL./nI/nsee/nthe/nprivate/nIP/naddress/nassigned/nto/nthe/nPrivate/nEndpoint/nis/nreturend./nThen/nI/nuse/ncurl/ncommand/nto/nsend/nrequest/nto/nthe/nendpoint./nTop/ncomments/n(0)/nSubscribe/nPersonal/nTrusted/nUser/nCreate/ntemplate/nTemplates/nlet/nyou/nquickly/nanswer/nFAQs/nor/nstore/nsnippets/nfor/nre-use./nSubmit/nPreview/nDismiss/nCode/nof/nConduct/n•/nReport/nabuse/nAre/nyou/nsure/nyou/nwant/nto/nhide/nthis/ncomment?/nIt/nwill/nbecome/nhidden/nin/nyour/npost,/nbut/nwill/nstill/nbe/nvisible/nvia/nthe/ncomment's/npermalink/n./nHide/nchild/ncomments/nas/nwell/nConfirm/nFor/nfurther/nactions,/nyou/nmay/nconsider/nblocking/nthis/nperson/nand/or/nreporting/nabuse/nKenichiro/nNakamura/nFollow/nJoined/nFeb/n3,/n2018/nMore/nfrom/nKenichiro/nNakamura/nAzure/nML/nPrompt/nflow:/nUse/ncontent/nsafety/nbefore/nsending/na/nrequest/nto/nLLM/n#/nazure/n#/npromptflow/n#/ncontentsafety/nDon't/nwaste/ntime/nto/nwrite/nREADME,/nuse/nreadme-ai/ninstead/n#/nai/n#/nreadme/n#/nopenai/nC#:/nAzure/nOpen/nAI/nand/nFunction/nCalling/n#/nazure/n#/nopenai/n#/nfunctioncalling/n💎/nDEV/nDiamond/nSponsors/nThank/nyou/nto/nour/nDiamond/nSponsors/nfor/nsupporting/nthe/nDEV/nCommunity/nGoogle/nAI/nis/nthe/nofficial/nAI/nModel/nand/nPlatform/nPartner/nof/nDEV/nNeon/nis/nthe/nofficial/ndatabase/npartner/nof/nDEV/nAlgolia/nis/nthe/nofficial/nsearch/npartner/nof/nDEV/nDEV/nCommunity/n—/nA/nspace/nto/ndiscuss/nand/nkeep/nup/nsoftware/ndevelopment/nand/nmanage/nyour/nsoftware/ncareer/nHome/nAbout/nContact/nCode/nof/nConduct/nPrivacy/nPolicy/nTerms/nof/nUse/nBuilt/non/nForem/n—/nthe/nopen/nsource/nsoftware/nthat/npowers/nDEV/nand/nother/ninclusive/ncommunities./nMade/nwith/nlove/nand/nRuby/non/nRails/n./nDEV/nCommunity/n©/n2016/n-/n2025./nWe're/na/nplace/nwhere/ncoders/nshare,/nstay/nup-to-date/nand/ngrow/ntheir/ncareers./nLog/nin/nCreate/naccount\""
            ],
            "application/vnd.google.colaboratory.intrinsic+json": {
              "type": "string"
            }
          },
          "metadata": {},
          "execution_count": 6
        }
      ]
    },
    {
      "cell_type": "code",
      "source": [
        "from langchain_openai.chat_models.azure import AzureChatOpenAI\n",
        "\n",
        "client = AzureChatOpenAI(\n",
        "    #Buscar informação de endpoint na plataforma do Azure, no recurso criado\n",
        "    azure_endpoint = 'https://oai-dio-bootcamp-dev-eastus-001.openai.azure.com/',\n",
        "    api_key = '730f2276a6a54c01964cf11672f08e7c',\n",
        "    #api_version fica na aba lateral esquerda \"Implantações -> Versão do modelo\"\n",
        "    api_version = '2024-02-15-preview',\n",
        "    deployment_name = 'dpt-4o-mini',\n",
        "    #Se eu colocar muitas tentativas (retry) posso acabar pagando muito pelo serviço\n",
        "    max_retries = 0\n",
        ")\n",
        "\n",
        "def translate_article(text,lang):\n",
        "  messages = [\n",
        "      (\"system\", 'Você atua como tradutor de textos'),\n",
        "      (\"user\", f'Traduza o {text} para o idioma {lang} e responda em markdown')\n",
        "  ]\n",
        "  response = client.invoke(messages)\n",
        "  print(response.content)\n",
        "  return response.content\n",
        "\n",
        "translate_article(\"let's see if it works as it should be\",'portugues')\n"
      ],
      "metadata": {
        "colab": {
          "base_uri": "https://localhost:8080/",
          "height": 408
        },
        "collapsed": true,
        "id": "lY2h1_-lPAES",
        "outputId": "eba63d3d-8b48-4808-d584-d39fa1d71d0e"
      },
      "execution_count": 10,
      "outputs": [
        {
          "output_type": "error",
          "ename": "AuthenticationError",
          "evalue": "Error code: 401 - {'error': {'code': '401', 'message': 'Access denied due to invalid subscription key or wrong API endpoint. Make sure to provide a valid key for an active subscription and use a correct regional API endpoint for your resource.'}}",
          "traceback": [
            "\u001b[0;31m---------------------------------------------------------------------------\u001b[0m",
            "\u001b[0;31mAuthenticationError\u001b[0m                       Traceback (most recent call last)",
            "\u001b[0;32m/tmp/ipython-input-2889359808.py\u001b[0m in \u001b[0;36m<cell line: 0>\u001b[0;34m()\u001b[0m\n\u001b[1;32m     21\u001b[0m   \u001b[0;32mreturn\u001b[0m \u001b[0mresponse\u001b[0m\u001b[0;34m.\u001b[0m\u001b[0mcontent\u001b[0m\u001b[0;34m\u001b[0m\u001b[0;34m\u001b[0m\u001b[0m\n\u001b[1;32m     22\u001b[0m \u001b[0;34m\u001b[0m\u001b[0m\n\u001b[0;32m---> 23\u001b[0;31m \u001b[0mtranslate_article\u001b[0m\u001b[0;34m(\u001b[0m\u001b[0;34m\"let's see if it works as it should be\"\u001b[0m\u001b[0;34m,\u001b[0m\u001b[0;34m'portugues'\u001b[0m\u001b[0;34m)\u001b[0m\u001b[0;34m\u001b[0m\u001b[0;34m\u001b[0m\u001b[0m\n\u001b[0m",
            "\u001b[0;32m/tmp/ipython-input-2889359808.py\u001b[0m in \u001b[0;36mtranslate_article\u001b[0;34m(text, lang)\u001b[0m\n\u001b[1;32m     17\u001b[0m       \u001b[0;34m(\u001b[0m\u001b[0;34m\"user\"\u001b[0m\u001b[0;34m,\u001b[0m \u001b[0;34mf'Traduza o {text} para o idioma {lang} e responda em markdown'\u001b[0m\u001b[0;34m)\u001b[0m\u001b[0;34m\u001b[0m\u001b[0;34m\u001b[0m\u001b[0m\n\u001b[1;32m     18\u001b[0m   ]\n\u001b[0;32m---> 19\u001b[0;31m   \u001b[0mresponse\u001b[0m \u001b[0;34m=\u001b[0m \u001b[0mclient\u001b[0m\u001b[0;34m.\u001b[0m\u001b[0minvoke\u001b[0m\u001b[0;34m(\u001b[0m\u001b[0mmessages\u001b[0m\u001b[0;34m)\u001b[0m\u001b[0;34m\u001b[0m\u001b[0;34m\u001b[0m\u001b[0m\n\u001b[0m\u001b[1;32m     20\u001b[0m   \u001b[0mprint\u001b[0m\u001b[0;34m(\u001b[0m\u001b[0mresponse\u001b[0m\u001b[0;34m.\u001b[0m\u001b[0mcontent\u001b[0m\u001b[0;34m)\u001b[0m\u001b[0;34m\u001b[0m\u001b[0;34m\u001b[0m\u001b[0m\n\u001b[1;32m     21\u001b[0m   \u001b[0;32mreturn\u001b[0m \u001b[0mresponse\u001b[0m\u001b[0;34m.\u001b[0m\u001b[0mcontent\u001b[0m\u001b[0;34m\u001b[0m\u001b[0;34m\u001b[0m\u001b[0m\n",
            "\u001b[0;32m/usr/local/lib/python3.12/dist-packages/langchain_core/language_models/chat_models.py\u001b[0m in \u001b[0;36minvoke\u001b[0;34m(self, input, config, stop, **kwargs)\u001b[0m\n\u001b[1;32m    377\u001b[0m             cast(\n\u001b[1;32m    378\u001b[0m                 \u001b[0;34m\"ChatGeneration\"\u001b[0m\u001b[0;34m,\u001b[0m\u001b[0;34m\u001b[0m\u001b[0;34m\u001b[0m\u001b[0m\n\u001b[0;32m--> 379\u001b[0;31m                 self.generate_prompt(\n\u001b[0m\u001b[1;32m    380\u001b[0m                     \u001b[0;34m[\u001b[0m\u001b[0mself\u001b[0m\u001b[0;34m.\u001b[0m\u001b[0m_convert_input\u001b[0m\u001b[0;34m(\u001b[0m\u001b[0minput\u001b[0m\u001b[0;34m)\u001b[0m\u001b[0;34m]\u001b[0m\u001b[0;34m,\u001b[0m\u001b[0;34m\u001b[0m\u001b[0;34m\u001b[0m\u001b[0m\n\u001b[1;32m    381\u001b[0m                     \u001b[0mstop\u001b[0m\u001b[0;34m=\u001b[0m\u001b[0mstop\u001b[0m\u001b[0;34m,\u001b[0m\u001b[0;34m\u001b[0m\u001b[0;34m\u001b[0m\u001b[0m\n",
            "\u001b[0;32m/usr/local/lib/python3.12/dist-packages/langchain_core/language_models/chat_models.py\u001b[0m in \u001b[0;36mgenerate_prompt\u001b[0;34m(self, prompts, stop, callbacks, **kwargs)\u001b[0m\n\u001b[1;32m   1086\u001b[0m     ) -> LLMResult:\n\u001b[1;32m   1087\u001b[0m         \u001b[0mprompt_messages\u001b[0m \u001b[0;34m=\u001b[0m \u001b[0;34m[\u001b[0m\u001b[0mp\u001b[0m\u001b[0;34m.\u001b[0m\u001b[0mto_messages\u001b[0m\u001b[0;34m(\u001b[0m\u001b[0;34m)\u001b[0m \u001b[0;32mfor\u001b[0m \u001b[0mp\u001b[0m \u001b[0;32min\u001b[0m \u001b[0mprompts\u001b[0m\u001b[0;34m]\u001b[0m\u001b[0;34m\u001b[0m\u001b[0;34m\u001b[0m\u001b[0m\n\u001b[0;32m-> 1088\u001b[0;31m         \u001b[0;32mreturn\u001b[0m \u001b[0mself\u001b[0m\u001b[0;34m.\u001b[0m\u001b[0mgenerate\u001b[0m\u001b[0;34m(\u001b[0m\u001b[0mprompt_messages\u001b[0m\u001b[0;34m,\u001b[0m \u001b[0mstop\u001b[0m\u001b[0;34m=\u001b[0m\u001b[0mstop\u001b[0m\u001b[0;34m,\u001b[0m \u001b[0mcallbacks\u001b[0m\u001b[0;34m=\u001b[0m\u001b[0mcallbacks\u001b[0m\u001b[0;34m,\u001b[0m \u001b[0;34m**\u001b[0m\u001b[0mkwargs\u001b[0m\u001b[0;34m)\u001b[0m\u001b[0;34m\u001b[0m\u001b[0;34m\u001b[0m\u001b[0m\n\u001b[0m\u001b[1;32m   1089\u001b[0m \u001b[0;34m\u001b[0m\u001b[0m\n\u001b[1;32m   1090\u001b[0m     \u001b[0;34m@\u001b[0m\u001b[0moverride\u001b[0m\u001b[0;34m\u001b[0m\u001b[0;34m\u001b[0m\u001b[0m\n",
            "\u001b[0;32m/usr/local/lib/python3.12/dist-packages/langchain_core/language_models/chat_models.py\u001b[0m in \u001b[0;36mgenerate\u001b[0;34m(self, messages, stop, callbacks, tags, metadata, run_name, run_id, **kwargs)\u001b[0m\n\u001b[1;32m    901\u001b[0m             \u001b[0;32mtry\u001b[0m\u001b[0;34m:\u001b[0m\u001b[0;34m\u001b[0m\u001b[0;34m\u001b[0m\u001b[0m\n\u001b[1;32m    902\u001b[0m                 results.append(\n\u001b[0;32m--> 903\u001b[0;31m                     self._generate_with_cache(\n\u001b[0m\u001b[1;32m    904\u001b[0m                         \u001b[0mm\u001b[0m\u001b[0;34m,\u001b[0m\u001b[0;34m\u001b[0m\u001b[0;34m\u001b[0m\u001b[0m\n\u001b[1;32m    905\u001b[0m                         \u001b[0mstop\u001b[0m\u001b[0;34m=\u001b[0m\u001b[0mstop\u001b[0m\u001b[0;34m,\u001b[0m\u001b[0;34m\u001b[0m\u001b[0;34m\u001b[0m\u001b[0m\n",
            "\u001b[0;32m/usr/local/lib/python3.12/dist-packages/langchain_core/language_models/chat_models.py\u001b[0m in \u001b[0;36m_generate_with_cache\u001b[0;34m(self, messages, stop, run_manager, **kwargs)\u001b[0m\n\u001b[1;32m   1190\u001b[0m             \u001b[0mresult\u001b[0m \u001b[0;34m=\u001b[0m \u001b[0mgenerate_from_stream\u001b[0m\u001b[0;34m(\u001b[0m\u001b[0miter\u001b[0m\u001b[0;34m(\u001b[0m\u001b[0mchunks\u001b[0m\u001b[0;34m)\u001b[0m\u001b[0;34m)\u001b[0m\u001b[0;34m\u001b[0m\u001b[0;34m\u001b[0m\u001b[0m\n\u001b[1;32m   1191\u001b[0m         \u001b[0;32melif\u001b[0m \u001b[0minspect\u001b[0m\u001b[0;34m.\u001b[0m\u001b[0msignature\u001b[0m\u001b[0;34m(\u001b[0m\u001b[0mself\u001b[0m\u001b[0;34m.\u001b[0m\u001b[0m_generate\u001b[0m\u001b[0;34m)\u001b[0m\u001b[0;34m.\u001b[0m\u001b[0mparameters\u001b[0m\u001b[0;34m.\u001b[0m\u001b[0mget\u001b[0m\u001b[0;34m(\u001b[0m\u001b[0;34m\"run_manager\"\u001b[0m\u001b[0;34m)\u001b[0m\u001b[0;34m:\u001b[0m\u001b[0;34m\u001b[0m\u001b[0;34m\u001b[0m\u001b[0m\n\u001b[0;32m-> 1192\u001b[0;31m             result = self._generate(\n\u001b[0m\u001b[1;32m   1193\u001b[0m                 \u001b[0mmessages\u001b[0m\u001b[0;34m,\u001b[0m \u001b[0mstop\u001b[0m\u001b[0;34m=\u001b[0m\u001b[0mstop\u001b[0m\u001b[0;34m,\u001b[0m \u001b[0mrun_manager\u001b[0m\u001b[0;34m=\u001b[0m\u001b[0mrun_manager\u001b[0m\u001b[0;34m,\u001b[0m \u001b[0;34m**\u001b[0m\u001b[0mkwargs\u001b[0m\u001b[0;34m\u001b[0m\u001b[0;34m\u001b[0m\u001b[0m\n\u001b[1;32m   1194\u001b[0m             )\n",
            "\u001b[0;32m/usr/local/lib/python3.12/dist-packages/langchain_openai/chat_models/base.py\u001b[0m in \u001b[0;36m_generate\u001b[0;34m(self, messages, stop, run_manager, **kwargs)\u001b[0m\n\u001b[1;32m   1210\u001b[0m             \u001b[0;32mif\u001b[0m \u001b[0mraw_response\u001b[0m \u001b[0;32mis\u001b[0m \u001b[0;32mnot\u001b[0m \u001b[0;32mNone\u001b[0m \u001b[0;32mand\u001b[0m \u001b[0mhasattr\u001b[0m\u001b[0;34m(\u001b[0m\u001b[0mraw_response\u001b[0m\u001b[0;34m,\u001b[0m \u001b[0;34m\"http_response\"\u001b[0m\u001b[0;34m)\u001b[0m\u001b[0;34m:\u001b[0m\u001b[0;34m\u001b[0m\u001b[0;34m\u001b[0m\u001b[0m\n\u001b[1;32m   1211\u001b[0m                 \u001b[0me\u001b[0m\u001b[0;34m.\u001b[0m\u001b[0mresponse\u001b[0m \u001b[0;34m=\u001b[0m \u001b[0mraw_response\u001b[0m\u001b[0;34m.\u001b[0m\u001b[0mhttp_response\u001b[0m  \u001b[0;31m# type: ignore[attr-defined]\u001b[0m\u001b[0;34m\u001b[0m\u001b[0;34m\u001b[0m\u001b[0m\n\u001b[0;32m-> 1212\u001b[0;31m             \u001b[0;32mraise\u001b[0m \u001b[0me\u001b[0m\u001b[0;34m\u001b[0m\u001b[0;34m\u001b[0m\u001b[0m\n\u001b[0m\u001b[1;32m   1213\u001b[0m         if (\n\u001b[1;32m   1214\u001b[0m             \u001b[0mself\u001b[0m\u001b[0;34m.\u001b[0m\u001b[0minclude_response_headers\u001b[0m\u001b[0;34m\u001b[0m\u001b[0;34m\u001b[0m\u001b[0m\n",
            "\u001b[0;32m/usr/local/lib/python3.12/dist-packages/langchain_openai/chat_models/base.py\u001b[0m in \u001b[0;36m_generate\u001b[0;34m(self, messages, stop, run_manager, **kwargs)\u001b[0m\n\u001b[1;32m   1205\u001b[0m                 )\n\u001b[1;32m   1206\u001b[0m             \u001b[0;32melse\u001b[0m\u001b[0;34m:\u001b[0m\u001b[0;34m\u001b[0m\u001b[0;34m\u001b[0m\u001b[0m\n\u001b[0;32m-> 1207\u001b[0;31m                 \u001b[0mraw_response\u001b[0m \u001b[0;34m=\u001b[0m \u001b[0mself\u001b[0m\u001b[0;34m.\u001b[0m\u001b[0mclient\u001b[0m\u001b[0;34m.\u001b[0m\u001b[0mwith_raw_response\u001b[0m\u001b[0;34m.\u001b[0m\u001b[0mcreate\u001b[0m\u001b[0;34m(\u001b[0m\u001b[0;34m**\u001b[0m\u001b[0mpayload\u001b[0m\u001b[0;34m)\u001b[0m\u001b[0;34m\u001b[0m\u001b[0;34m\u001b[0m\u001b[0m\n\u001b[0m\u001b[1;32m   1208\u001b[0m                 \u001b[0mresponse\u001b[0m \u001b[0;34m=\u001b[0m \u001b[0mraw_response\u001b[0m\u001b[0;34m.\u001b[0m\u001b[0mparse\u001b[0m\u001b[0;34m(\u001b[0m\u001b[0;34m)\u001b[0m\u001b[0;34m\u001b[0m\u001b[0;34m\u001b[0m\u001b[0m\n\u001b[1;32m   1209\u001b[0m         \u001b[0;32mexcept\u001b[0m \u001b[0mException\u001b[0m \u001b[0;32mas\u001b[0m \u001b[0me\u001b[0m\u001b[0;34m:\u001b[0m\u001b[0;34m\u001b[0m\u001b[0;34m\u001b[0m\u001b[0m\n",
            "\u001b[0;32m/usr/local/lib/python3.12/dist-packages/openai/_legacy_response.py\u001b[0m in \u001b[0;36mwrapped\u001b[0;34m(*args, **kwargs)\u001b[0m\n\u001b[1;32m    362\u001b[0m         \u001b[0mkwargs\u001b[0m\u001b[0;34m[\u001b[0m\u001b[0;34m\"extra_headers\"\u001b[0m\u001b[0;34m]\u001b[0m \u001b[0;34m=\u001b[0m \u001b[0mextra_headers\u001b[0m\u001b[0;34m\u001b[0m\u001b[0;34m\u001b[0m\u001b[0m\n\u001b[1;32m    363\u001b[0m \u001b[0;34m\u001b[0m\u001b[0m\n\u001b[0;32m--> 364\u001b[0;31m         \u001b[0;32mreturn\u001b[0m \u001b[0mcast\u001b[0m\u001b[0;34m(\u001b[0m\u001b[0mLegacyAPIResponse\u001b[0m\u001b[0;34m[\u001b[0m\u001b[0mR\u001b[0m\u001b[0;34m]\u001b[0m\u001b[0;34m,\u001b[0m \u001b[0mfunc\u001b[0m\u001b[0;34m(\u001b[0m\u001b[0;34m*\u001b[0m\u001b[0margs\u001b[0m\u001b[0;34m,\u001b[0m \u001b[0;34m**\u001b[0m\u001b[0mkwargs\u001b[0m\u001b[0;34m)\u001b[0m\u001b[0;34m)\u001b[0m\u001b[0;34m\u001b[0m\u001b[0;34m\u001b[0m\u001b[0m\n\u001b[0m\u001b[1;32m    365\u001b[0m \u001b[0;34m\u001b[0m\u001b[0m\n\u001b[1;32m    366\u001b[0m     \u001b[0;32mreturn\u001b[0m \u001b[0mwrapped\u001b[0m\u001b[0;34m\u001b[0m\u001b[0;34m\u001b[0m\u001b[0m\n",
            "\u001b[0;32m/usr/local/lib/python3.12/dist-packages/openai/_utils/_utils.py\u001b[0m in \u001b[0;36mwrapper\u001b[0;34m(*args, **kwargs)\u001b[0m\n\u001b[1;32m    284\u001b[0m                         \u001b[0mmsg\u001b[0m \u001b[0;34m=\u001b[0m \u001b[0;34mf\"Missing required argument: {quote(missing[0])}\"\u001b[0m\u001b[0;34m\u001b[0m\u001b[0;34m\u001b[0m\u001b[0m\n\u001b[1;32m    285\u001b[0m                 \u001b[0;32mraise\u001b[0m \u001b[0mTypeError\u001b[0m\u001b[0;34m(\u001b[0m\u001b[0mmsg\u001b[0m\u001b[0;34m)\u001b[0m\u001b[0;34m\u001b[0m\u001b[0;34m\u001b[0m\u001b[0m\n\u001b[0;32m--> 286\u001b[0;31m             \u001b[0;32mreturn\u001b[0m \u001b[0mfunc\u001b[0m\u001b[0;34m(\u001b[0m\u001b[0;34m*\u001b[0m\u001b[0margs\u001b[0m\u001b[0;34m,\u001b[0m \u001b[0;34m**\u001b[0m\u001b[0mkwargs\u001b[0m\u001b[0;34m)\u001b[0m\u001b[0;34m\u001b[0m\u001b[0;34m\u001b[0m\u001b[0m\n\u001b[0m\u001b[1;32m    287\u001b[0m \u001b[0;34m\u001b[0m\u001b[0m\n\u001b[1;32m    288\u001b[0m         \u001b[0;32mreturn\u001b[0m \u001b[0mwrapper\u001b[0m  \u001b[0;31m# type: ignore\u001b[0m\u001b[0;34m\u001b[0m\u001b[0;34m\u001b[0m\u001b[0m\n",
            "\u001b[0;32m/usr/local/lib/python3.12/dist-packages/openai/resources/chat/completions/completions.py\u001b[0m in \u001b[0;36mcreate\u001b[0;34m(self, messages, model, audio, frequency_penalty, function_call, functions, logit_bias, logprobs, max_completion_tokens, max_tokens, metadata, modalities, n, parallel_tool_calls, prediction, presence_penalty, prompt_cache_key, reasoning_effort, response_format, safety_identifier, seed, service_tier, stop, store, stream, stream_options, temperature, tool_choice, tools, top_logprobs, top_p, user, verbosity, web_search_options, extra_headers, extra_query, extra_body, timeout)\u001b[0m\n\u001b[1;32m   1145\u001b[0m     ) -> ChatCompletion | Stream[ChatCompletionChunk]:\n\u001b[1;32m   1146\u001b[0m         \u001b[0mvalidate_response_format\u001b[0m\u001b[0;34m(\u001b[0m\u001b[0mresponse_format\u001b[0m\u001b[0;34m)\u001b[0m\u001b[0;34m\u001b[0m\u001b[0;34m\u001b[0m\u001b[0m\n\u001b[0;32m-> 1147\u001b[0;31m         return self._post(\n\u001b[0m\u001b[1;32m   1148\u001b[0m             \u001b[0;34m\"/chat/completions\"\u001b[0m\u001b[0;34m,\u001b[0m\u001b[0;34m\u001b[0m\u001b[0;34m\u001b[0m\u001b[0m\n\u001b[1;32m   1149\u001b[0m             body=maybe_transform(\n",
            "\u001b[0;32m/usr/local/lib/python3.12/dist-packages/openai/_base_client.py\u001b[0m in \u001b[0;36mpost\u001b[0;34m(self, path, cast_to, body, options, files, stream, stream_cls)\u001b[0m\n\u001b[1;32m   1257\u001b[0m             \u001b[0mmethod\u001b[0m\u001b[0;34m=\u001b[0m\u001b[0;34m\"post\"\u001b[0m\u001b[0;34m,\u001b[0m \u001b[0murl\u001b[0m\u001b[0;34m=\u001b[0m\u001b[0mpath\u001b[0m\u001b[0;34m,\u001b[0m \u001b[0mjson_data\u001b[0m\u001b[0;34m=\u001b[0m\u001b[0mbody\u001b[0m\u001b[0;34m,\u001b[0m \u001b[0mfiles\u001b[0m\u001b[0;34m=\u001b[0m\u001b[0mto_httpx_files\u001b[0m\u001b[0;34m(\u001b[0m\u001b[0mfiles\u001b[0m\u001b[0;34m)\u001b[0m\u001b[0;34m,\u001b[0m \u001b[0;34m**\u001b[0m\u001b[0moptions\u001b[0m\u001b[0;34m\u001b[0m\u001b[0;34m\u001b[0m\u001b[0m\n\u001b[1;32m   1258\u001b[0m         )\n\u001b[0;32m-> 1259\u001b[0;31m         \u001b[0;32mreturn\u001b[0m \u001b[0mcast\u001b[0m\u001b[0;34m(\u001b[0m\u001b[0mResponseT\u001b[0m\u001b[0;34m,\u001b[0m \u001b[0mself\u001b[0m\u001b[0;34m.\u001b[0m\u001b[0mrequest\u001b[0m\u001b[0;34m(\u001b[0m\u001b[0mcast_to\u001b[0m\u001b[0;34m,\u001b[0m \u001b[0mopts\u001b[0m\u001b[0;34m,\u001b[0m \u001b[0mstream\u001b[0m\u001b[0;34m=\u001b[0m\u001b[0mstream\u001b[0m\u001b[0;34m,\u001b[0m \u001b[0mstream_cls\u001b[0m\u001b[0;34m=\u001b[0m\u001b[0mstream_cls\u001b[0m\u001b[0;34m)\u001b[0m\u001b[0;34m)\u001b[0m\u001b[0;34m\u001b[0m\u001b[0;34m\u001b[0m\u001b[0m\n\u001b[0m\u001b[1;32m   1260\u001b[0m \u001b[0;34m\u001b[0m\u001b[0m\n\u001b[1;32m   1261\u001b[0m     def patch(\n",
            "\u001b[0;32m/usr/local/lib/python3.12/dist-packages/openai/_base_client.py\u001b[0m in \u001b[0;36mrequest\u001b[0;34m(self, cast_to, options, stream, stream_cls)\u001b[0m\n\u001b[1;32m   1045\u001b[0m \u001b[0;34m\u001b[0m\u001b[0m\n\u001b[1;32m   1046\u001b[0m                 \u001b[0mlog\u001b[0m\u001b[0;34m.\u001b[0m\u001b[0mdebug\u001b[0m\u001b[0;34m(\u001b[0m\u001b[0;34m\"Re-raising status error\"\u001b[0m\u001b[0;34m)\u001b[0m\u001b[0;34m\u001b[0m\u001b[0;34m\u001b[0m\u001b[0m\n\u001b[0;32m-> 1047\u001b[0;31m                 \u001b[0;32mraise\u001b[0m \u001b[0mself\u001b[0m\u001b[0;34m.\u001b[0m\u001b[0m_make_status_error_from_response\u001b[0m\u001b[0;34m(\u001b[0m\u001b[0merr\u001b[0m\u001b[0;34m.\u001b[0m\u001b[0mresponse\u001b[0m\u001b[0;34m)\u001b[0m \u001b[0;32mfrom\u001b[0m \u001b[0;32mNone\u001b[0m\u001b[0;34m\u001b[0m\u001b[0;34m\u001b[0m\u001b[0m\n\u001b[0m\u001b[1;32m   1048\u001b[0m \u001b[0;34m\u001b[0m\u001b[0m\n\u001b[1;32m   1049\u001b[0m             \u001b[0;32mbreak\u001b[0m\u001b[0;34m\u001b[0m\u001b[0;34m\u001b[0m\u001b[0m\n",
            "\u001b[0;31mAuthenticationError\u001b[0m: Error code: 401 - {'error': {'code': '401', 'message': 'Access denied due to invalid subscription key or wrong API endpoint. Make sure to provide a valid key for an active subscription and use a correct regional API endpoint for your resource.'}}"
          ]
        }
      ]
    },
    {
      "cell_type": "code",
      "source": [
        "url = 'https://dev.to/kenakamu/azure-open-ai-in-vnet-3alo'\n",
        "text = extract_text_from_url(url)\n",
        "article = translate_article(text, 'pt-br')\n",
        "print(article)"
      ],
      "metadata": {
        "id": "b9pPk72ITOlH"
      },
      "execution_count": null,
      "outputs": []
    }
  ]
}
